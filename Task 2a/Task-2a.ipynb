{
  "nbformat": 4,
  "nbformat_minor": 0,
  "metadata": {
    "colab": {
      "provenance": [],
      "machine_shape": "hm",
      "gpuType": "V28"
    },
    "kernelspec": {
      "name": "python3",
      "display_name": "Python 3"
    },
    "language_info": {
      "name": "python"
    },
    "accelerator": "TPU"
  },
  "cells": [
    {
      "cell_type": "markdown",
      "source": [
        "### Common Task: HIGGS Dataset Classification with Transformer Autoencoder\n",
        "\n",
        "**Dataset**:  \n",
        "- **Source**: [UCI HIGGS Dataset](https://archive.ics.uci.edu/ml/datasets/HIGGS)  \n",
        "- Loaded via **Google Drive** from `HIGGS 2.csv.gz`  \n",
        "- Used **first 1.1 million events** with **21 features + 1 label**\n",
        "\n",
        "**Preprocessing**:\n",
        "- Extracted label (column 0) and 21 features (columns 1–21)\n",
        "- Converted to `float32` for PyTorch compatibility\n",
        "\n",
        "---\n",
        "\n",
        "### Solution Overview\n",
        "\n",
        "- **Split**:\n",
        "  - **Train**: 900k samples  \n",
        "  - **Validation**: 100k samples  \n",
        "  - **Test**: Final 100k samples (held out)  \n",
        "  - Split done via `train_test_split` with `random_state=42` for reproducibility\n",
        "\n",
        "- **Model Architecture**:  \n",
        "  - **Encoder**: Transformer encoder maps 21 features into a latent vector  \n",
        "  - **Decoder**: Feedforward classifier built on top of latent space  \n",
        "  - Chosen for its ability to capture complex feature interactions using attention\n",
        "\n",
        "- **Training Setup**:  \n",
        "  - **Loss**:  \n",
        "    - `FocalLoss` for class imbalance  \n",
        "    - `SmoothBCE` with ε=0.1 for label smoothing  \n",
        "  - **Optimizer**: `AdamW`  \n",
        "  - **Scheduler**: `OneCycleLR`  \n",
        "  - **Mixed Precision**: `torch.cuda.amp` + `GradScaler`  \n",
        "  - **Early Stopping**: Based on validation ROC-AUC (patience = 3)\n",
        "\n",
        "- **Training Tricks**:  \n",
        "  - Label smoothing to reduce overconfidence  \n",
        "  - OneCycleLR for adaptive learning rate control  \n",
        "  - Gradient scaling for numerical stability\n",
        "\n",
        "**Evaluation**:  \n",
        "- ROC-AUC on validation set tracked per epoch  \n",
        "- Best model checkpointed as `best_transformer_model.pt`  \n",
        "- Final classifier tested on the 100k held-out samples  \n",
        "- AUC-vs-Epoch curve plotted for visual inspection\n",
        "\n",
        "---\n",
        "\n",
        "### Notes\n",
        "\n",
        "- Transformer models effectively handle structured tabular data through attention-based encoding  \n",
        "- Latent representations from the encoder were leveraged for classification  \n",
        "- This setup aims to benchmark performance against the [original HIGGS paper](https://arxiv.org/pdf/1402.4735.pdf)\n"
      ],
      "metadata": {
        "id": "SjYHIEm7WKp7"
      }
    },
    {
      "cell_type": "code",
      "source": [
        "\n",
        "from google.colab import drive\n",
        "import pandas as pd\n",
        "import torch\n",
        "import torch.nn as nn\n",
        "import torch.nn.functional as F\n",
        "import numpy as np\n",
        "from sklearn.metrics import roc_auc_score\n",
        "from sklearn.model_selection import train_test_split\n",
        "from torch.utils.data import Dataset, DataLoader, TensorDataset\n",
        "from tqdm import tqdm\n",
        "import copy\n",
        "\n",
        "# Mount Google Drive\n",
        "drive.mount('/content/drive')\n",
        "\n",
        "# Load Data\n",
        "file_path = '/content/drive/MyDrive/Data/HIGGS 2.csv.gz'\n",
        "df = pd.read_csv(file_path, compression='gzip')\n",
        "df = df.iloc[:1_100_000, :22]  # 21 features + label\n",
        "\n",
        "# Split features and label\n",
        "X = df.iloc[:, 1:].values.astype(np.float32)\n",
        "y = df.iloc[:, 0].values.astype(np.float32)\n",
        "\n",
        "# Train-val-test split\n",
        "X_trainval, X_test, y_trainval, y_test = X[:-100_000], X[-100_000:], y[:-100_000], y[-100_000:]\n",
        "X_train, X_val, y_train, y_val = train_test_split(X_trainval, y_trainval, test_size=0.1, random_state=42)\n",
        "\n",
        "# Convert to PyTorch tensors\n",
        "def make_loader(X, y, batch_size=2048, shuffle=True):\n",
        "    tensor_X = torch.tensor(X)\n",
        "    tensor_y = torch.tensor(y)\n",
        "    dataset = TensorDataset(tensor_X, tensor_y)\n",
        "    return DataLoader(dataset, batch_size=batch_size, shuffle=shuffle)\n",
        "\n",
        "train_loader = make_loader(X_train, y_train)\n",
        "val_loader = make_loader(X_val, y_val, shuffle=False)\n",
        "test_loader = make_loader(X_test, y_test, shuffle=False)\n",
        "\n"
      ],
      "metadata": {
        "id": "5UozkoRpQ9Mq",
        "colab": {
          "base_uri": "https://localhost:8080/"
        },
        "outputId": "4c4fac47-d0e7-4256-8a56-6c82c67cb4df"
      },
      "execution_count": null,
      "outputs": [
        {
          "output_type": "stream",
          "name": "stdout",
          "text": [
            "Drive already mounted at /content/drive; to attempt to forcibly remount, call drive.mount(\"/content/drive\", force_remount=True).\n"
          ]
        }
      ]
    },
    {
      "cell_type": "code",
      "source": [
        "import matplotlib.pyplot as plt\n",
        "from sklearn.metrics import roc_curve, auc, roc_auc_score\n",
        "from torch.cuda.amp import autocast, GradScaler\n",
        "import torch.nn.functional as F\n",
        "\n",
        "# Label Smoothing\n",
        "class SmoothBCE:\n",
        "    def __init__(self, smoothing=0.1):\n",
        "        self.smoothing = smoothing\n",
        "    def __call__(self, targets):\n",
        "        return targets * (1.0 - self.smoothing) + 0.5 * self.smoothing\n",
        "\n",
        "# Setup\n",
        "device = torch.device(\"cuda\" if torch.cuda.is_available() else \"cpu\")\n",
        "model = TransformerAutoencoder().to(device)\n",
        "criterion = FocalLoss()\n",
        "optimizer = torch.optim.AdamW(model.parameters(), lr=1e-3)\n",
        "scaler = GradScaler()\n",
        "\n",
        "# OneCycleLR\n",
        "steps_per_epoch = len(train_loader)\n",
        "scheduler = torch.optim.lr_scheduler.OneCycleLR(\n",
        "    optimizer, max_lr=1e-3, epochs=20, steps_per_epoch=steps_per_epoch,\n",
        "    pct_start=0.3, anneal_strategy='cos', div_factor=25.0, final_div_factor=1e4\n",
        ")\n",
        "\n",
        "# Hyperparams\n",
        "label_smoother = SmoothBCE(0.1)\n",
        "best_auc = 0\n",
        "patience = 3\n",
        "patience_counter = 0\n",
        "best_model = None\n",
        "val_auc_history = []\n",
        "num_epochs = 20\n",
        "\n",
        "# Training Loop\n",
        "for epoch in range(num_epochs):\n",
        "    model.train()\n",
        "    train_loss = 0.0\n",
        "    for xb, yb in tqdm(train_loader, desc=f\"Epoch {epoch+1}\"):\n",
        "        xb, yb = xb.to(device), yb.to(device)\n",
        "        yb_smooth = label_smoother(yb.float())  # Apply label smoothing\n",
        "\n",
        "        optimizer.zero_grad()\n",
        "        with autocast():\n",
        "            preds = model(xb).squeeze()\n",
        "            loss = criterion(preds, yb_smooth)\n",
        "\n",
        "        scaler.scale(loss).backward()\n",
        "        scaler.step(optimizer)\n",
        "        scaler.update()\n",
        "        scheduler.step()\n",
        "        train_loss += loss.item()\n",
        "\n",
        "    # Validation\n",
        "    model.eval()\n",
        "    val_preds, val_labels = [], []\n",
        "    with torch.no_grad():\n",
        "        for xb, yb in val_loader:\n",
        "            xb = xb.to(device)\n",
        "            preds = torch.sigmoid(model(xb).squeeze()).cpu().numpy()\n",
        "            val_preds.extend(preds)\n",
        "            val_labels.extend(yb.numpy())\n",
        "\n",
        "    val_auc = roc_auc_score(val_labels, val_preds)\n",
        "    val_auc_history.append(val_auc)\n",
        "    print(f\"Epoch {epoch+1} - Loss: {train_loss/len(train_loader):.4f} - Val AUC: {val_auc:.4f}\")\n",
        "\n",
        "    # Early Stopping\n",
        "    if val_auc > best_auc:\n",
        "        best_auc = val_auc\n",
        "        best_model = copy.deepcopy(model.state_dict())\n",
        "        patience_counter = 0\n",
        "        torch.save(model.state_dict(), \"best_transformer_model.pt\")\n",
        "    else:\n",
        "        patience_counter += 1\n",
        "        if patience_counter >= patience:\n",
        "            print(\"Early stopping triggered.\")\n",
        "            break\n",
        "\n",
        "# Combined AUC-vs-Epoch Plot\n",
        "plt.figure(figsize=(8, 5))\n",
        "plt.plot(val_auc_history, marker='o', label='Val ROC AUC')\n",
        "plt.xlabel(\"Epoch\")\n",
        "plt.ylabel(\"ROC AUC\")\n",
        "plt.title(\"Validation ROC AUC Over Epochs\")\n",
        "plt.grid(True)\n",
        "plt.legend()\n",
        "plt.tight_layout()\n",
        "plt.show()\n",
        "\n",
        "print(f\"\\nBest Validation AUC: {best_auc:.4f}\")\n"
      ],
      "metadata": {
        "colab": {
          "base_uri": "https://localhost:8080/",
          "height": 1000
        },
        "id": "KJIk852WCWo-",
        "outputId": "4a4e4e98-8a8d-4d2e-bf9d-8d75886ef251"
      },
      "execution_count": null,
      "outputs": [
        {
          "output_type": "stream",
          "name": "stderr",
          "text": [
            "<ipython-input-8-2981bf12d2ef>:18: FutureWarning: `torch.cuda.amp.GradScaler(args...)` is deprecated. Please use `torch.amp.GradScaler('cuda', args...)` instead.\n",
            "  scaler = GradScaler()\n",
            "Epoch 1:   0%|          | 0/440 [00:00<?, ?it/s]<ipython-input-8-2981bf12d2ef>:45: FutureWarning: `torch.cuda.amp.autocast(args...)` is deprecated. Please use `torch.amp.autocast('cuda', args...)` instead.\n",
            "  with autocast():\n",
            "Epoch 1: 100%|██████████| 440/440 [00:51<00:00,  8.57it/s]\n"
          ]
        },
        {
          "output_type": "stream",
          "name": "stdout",
          "text": [
            "Epoch 1 - Loss: 0.0425 - Val AUC: 0.6544\n"
          ]
        },
        {
          "output_type": "stream",
          "name": "stderr",
          "text": [
            "Epoch 2:   0%|          | 0/440 [00:00<?, ?it/s]<ipython-input-8-2981bf12d2ef>:45: FutureWarning: `torch.cuda.amp.autocast(args...)` is deprecated. Please use `torch.amp.autocast('cuda', args...)` instead.\n",
            "  with autocast():\n",
            "Epoch 2: 100%|██████████| 440/440 [00:50<00:00,  8.63it/s]\n"
          ]
        },
        {
          "output_type": "stream",
          "name": "stdout",
          "text": [
            "Epoch 2 - Loss: 0.0414 - Val AUC: 0.6927\n"
          ]
        },
        {
          "output_type": "stream",
          "name": "stderr",
          "text": [
            "Epoch 3:   0%|          | 0/440 [00:00<?, ?it/s]<ipython-input-8-2981bf12d2ef>:45: FutureWarning: `torch.cuda.amp.autocast(args...)` is deprecated. Please use `torch.amp.autocast('cuda', args...)` instead.\n",
            "  with autocast():\n",
            "Epoch 3: 100%|██████████| 440/440 [00:50<00:00,  8.65it/s]\n"
          ]
        },
        {
          "output_type": "stream",
          "name": "stdout",
          "text": [
            "Epoch 3 - Loss: 0.0404 - Val AUC: 0.7109\n"
          ]
        },
        {
          "output_type": "stream",
          "name": "stderr",
          "text": [
            "Epoch 4:   0%|          | 0/440 [00:00<?, ?it/s]<ipython-input-8-2981bf12d2ef>:45: FutureWarning: `torch.cuda.amp.autocast(args...)` is deprecated. Please use `torch.amp.autocast('cuda', args...)` instead.\n",
            "  with autocast():\n",
            "Epoch 4: 100%|██████████| 440/440 [00:49<00:00,  8.85it/s]\n"
          ]
        },
        {
          "output_type": "stream",
          "name": "stdout",
          "text": [
            "Epoch 4 - Loss: 0.0396 - Val AUC: 0.7375\n"
          ]
        },
        {
          "output_type": "stream",
          "name": "stderr",
          "text": [
            "Epoch 5:   0%|          | 0/440 [00:00<?, ?it/s]<ipython-input-8-2981bf12d2ef>:45: FutureWarning: `torch.cuda.amp.autocast(args...)` is deprecated. Please use `torch.amp.autocast('cuda', args...)` instead.\n",
            "  with autocast():\n",
            "Epoch 5: 100%|██████████| 440/440 [00:49<00:00,  8.87it/s]\n"
          ]
        },
        {
          "output_type": "stream",
          "name": "stdout",
          "text": [
            "Epoch 5 - Loss: 0.0390 - Val AUC: 0.7443\n"
          ]
        },
        {
          "output_type": "stream",
          "name": "stderr",
          "text": [
            "Epoch 6:   0%|          | 0/440 [00:00<?, ?it/s]<ipython-input-8-2981bf12d2ef>:45: FutureWarning: `torch.cuda.amp.autocast(args...)` is deprecated. Please use `torch.amp.autocast('cuda', args...)` instead.\n",
            "  with autocast():\n",
            "Epoch 6: 100%|██████████| 440/440 [00:50<00:00,  8.74it/s]\n"
          ]
        },
        {
          "output_type": "stream",
          "name": "stdout",
          "text": [
            "Epoch 6 - Loss: 0.0385 - Val AUC: 0.7507\n"
          ]
        },
        {
          "output_type": "stream",
          "name": "stderr",
          "text": [
            "Epoch 7:   0%|          | 0/440 [00:00<?, ?it/s]<ipython-input-8-2981bf12d2ef>:45: FutureWarning: `torch.cuda.amp.autocast(args...)` is deprecated. Please use `torch.amp.autocast('cuda', args...)` instead.\n",
            "  with autocast():\n",
            "Epoch 7: 100%|██████████| 440/440 [00:51<00:00,  8.52it/s]\n"
          ]
        },
        {
          "output_type": "stream",
          "name": "stdout",
          "text": [
            "Epoch 7 - Loss: 0.0382 - Val AUC: 0.7602\n"
          ]
        },
        {
          "output_type": "stream",
          "name": "stderr",
          "text": [
            "Epoch 8:   0%|          | 0/440 [00:00<?, ?it/s]<ipython-input-8-2981bf12d2ef>:45: FutureWarning: `torch.cuda.amp.autocast(args...)` is deprecated. Please use `torch.amp.autocast('cuda', args...)` instead.\n",
            "  with autocast():\n",
            "Epoch 8: 100%|██████████| 440/440 [00:50<00:00,  8.66it/s]\n"
          ]
        },
        {
          "output_type": "stream",
          "name": "stdout",
          "text": [
            "Epoch 8 - Loss: 0.0378 - Val AUC: 0.7641\n"
          ]
        },
        {
          "output_type": "stream",
          "name": "stderr",
          "text": [
            "Epoch 9:   0%|          | 0/440 [00:00<?, ?it/s]<ipython-input-8-2981bf12d2ef>:45: FutureWarning: `torch.cuda.amp.autocast(args...)` is deprecated. Please use `torch.amp.autocast('cuda', args...)` instead.\n",
            "  with autocast():\n",
            "Epoch 9: 100%|██████████| 440/440 [00:50<00:00,  8.64it/s]\n"
          ]
        },
        {
          "output_type": "stream",
          "name": "stdout",
          "text": [
            "Epoch 9 - Loss: 0.0376 - Val AUC: 0.7680\n"
          ]
        },
        {
          "output_type": "stream",
          "name": "stderr",
          "text": [
            "Epoch 10:   0%|          | 0/440 [00:00<?, ?it/s]<ipython-input-8-2981bf12d2ef>:45: FutureWarning: `torch.cuda.amp.autocast(args...)` is deprecated. Please use `torch.amp.autocast('cuda', args...)` instead.\n",
            "  with autocast():\n",
            "Epoch 10: 100%|██████████| 440/440 [00:51<00:00,  8.61it/s]\n"
          ]
        },
        {
          "output_type": "stream",
          "name": "stdout",
          "text": [
            "Epoch 10 - Loss: 0.0374 - Val AUC: 0.7706\n"
          ]
        },
        {
          "output_type": "stream",
          "name": "stderr",
          "text": [
            "Epoch 11:   0%|          | 0/440 [00:00<?, ?it/s]<ipython-input-8-2981bf12d2ef>:45: FutureWarning: `torch.cuda.amp.autocast(args...)` is deprecated. Please use `torch.amp.autocast('cuda', args...)` instead.\n",
            "  with autocast():\n",
            "Epoch 11: 100%|██████████| 440/440 [00:50<00:00,  8.64it/s]\n"
          ]
        },
        {
          "output_type": "stream",
          "name": "stdout",
          "text": [
            "Epoch 11 - Loss: 0.0372 - Val AUC: 0.7755\n"
          ]
        },
        {
          "output_type": "stream",
          "name": "stderr",
          "text": [
            "Epoch 12:   0%|          | 0/440 [00:00<?, ?it/s]<ipython-input-8-2981bf12d2ef>:45: FutureWarning: `torch.cuda.amp.autocast(args...)` is deprecated. Please use `torch.amp.autocast('cuda', args...)` instead.\n",
            "  with autocast():\n",
            "Epoch 12: 100%|██████████| 440/440 [00:49<00:00,  8.84it/s]\n"
          ]
        },
        {
          "output_type": "stream",
          "name": "stdout",
          "text": [
            "Epoch 12 - Loss: 0.0369 - Val AUC: 0.7800\n"
          ]
        },
        {
          "output_type": "stream",
          "name": "stderr",
          "text": [
            "Epoch 13:   0%|          | 0/440 [00:00<?, ?it/s]<ipython-input-8-2981bf12d2ef>:45: FutureWarning: `torch.cuda.amp.autocast(args...)` is deprecated. Please use `torch.amp.autocast('cuda', args...)` instead.\n",
            "  with autocast():\n",
            "Epoch 13: 100%|██████████| 440/440 [00:51<00:00,  8.59it/s]\n"
          ]
        },
        {
          "output_type": "stream",
          "name": "stdout",
          "text": [
            "Epoch 13 - Loss: 0.0367 - Val AUC: 0.7820\n"
          ]
        },
        {
          "output_type": "stream",
          "name": "stderr",
          "text": [
            "Epoch 14:   0%|          | 0/440 [00:00<?, ?it/s]<ipython-input-8-2981bf12d2ef>:45: FutureWarning: `torch.cuda.amp.autocast(args...)` is deprecated. Please use `torch.amp.autocast('cuda', args...)` instead.\n",
            "  with autocast():\n",
            "Epoch 14: 100%|██████████| 440/440 [00:51<00:00,  8.57it/s]\n"
          ]
        },
        {
          "output_type": "stream",
          "name": "stdout",
          "text": [
            "Epoch 14 - Loss: 0.0365 - Val AUC: 0.7862\n"
          ]
        },
        {
          "output_type": "stream",
          "name": "stderr",
          "text": [
            "Epoch 15:   0%|          | 0/440 [00:00<?, ?it/s]<ipython-input-8-2981bf12d2ef>:45: FutureWarning: `torch.cuda.amp.autocast(args...)` is deprecated. Please use `torch.amp.autocast('cuda', args...)` instead.\n",
            "  with autocast():\n",
            "Epoch 15: 100%|██████████| 440/440 [00:50<00:00,  8.71it/s]\n"
          ]
        },
        {
          "output_type": "stream",
          "name": "stdout",
          "text": [
            "Epoch 15 - Loss: 0.0362 - Val AUC: 0.7890\n"
          ]
        },
        {
          "output_type": "stream",
          "name": "stderr",
          "text": [
            "Epoch 16:   0%|          | 0/440 [00:00<?, ?it/s]<ipython-input-8-2981bf12d2ef>:45: FutureWarning: `torch.cuda.amp.autocast(args...)` is deprecated. Please use `torch.amp.autocast('cuda', args...)` instead.\n",
            "  with autocast():\n",
            "Epoch 16: 100%|██████████| 440/440 [00:51<00:00,  8.62it/s]\n"
          ]
        },
        {
          "output_type": "stream",
          "name": "stdout",
          "text": [
            "Epoch 16 - Loss: 0.0360 - Val AUC: 0.7918\n"
          ]
        },
        {
          "output_type": "stream",
          "name": "stderr",
          "text": [
            "Epoch 17:   0%|          | 0/440 [00:00<?, ?it/s]<ipython-input-8-2981bf12d2ef>:45: FutureWarning: `torch.cuda.amp.autocast(args...)` is deprecated. Please use `torch.amp.autocast('cuda', args...)` instead.\n",
            "  with autocast():\n",
            "Epoch 17: 100%|██████████| 440/440 [00:50<00:00,  8.69it/s]\n"
          ]
        },
        {
          "output_type": "stream",
          "name": "stdout",
          "text": [
            "Epoch 17 - Loss: 0.0358 - Val AUC: 0.7929\n"
          ]
        },
        {
          "output_type": "stream",
          "name": "stderr",
          "text": [
            "Epoch 18:   0%|          | 0/440 [00:00<?, ?it/s]<ipython-input-8-2981bf12d2ef>:45: FutureWarning: `torch.cuda.amp.autocast(args...)` is deprecated. Please use `torch.amp.autocast('cuda', args...)` instead.\n",
            "  with autocast():\n",
            "Epoch 18: 100%|██████████| 440/440 [00:51<00:00,  8.61it/s]\n"
          ]
        },
        {
          "output_type": "stream",
          "name": "stdout",
          "text": [
            "Epoch 18 - Loss: 0.0356 - Val AUC: 0.7947\n"
          ]
        },
        {
          "output_type": "stream",
          "name": "stderr",
          "text": [
            "Epoch 19:   0%|          | 0/440 [00:00<?, ?it/s]<ipython-input-8-2981bf12d2ef>:45: FutureWarning: `torch.cuda.amp.autocast(args...)` is deprecated. Please use `torch.amp.autocast('cuda', args...)` instead.\n",
            "  with autocast():\n",
            "Epoch 19: 100%|██████████| 440/440 [00:51<00:00,  8.56it/s]\n"
          ]
        },
        {
          "output_type": "stream",
          "name": "stdout",
          "text": [
            "Epoch 19 - Loss: 0.0355 - Val AUC: 0.7953\n"
          ]
        },
        {
          "output_type": "stream",
          "name": "stderr",
          "text": [
            "Epoch 20:   0%|          | 0/440 [00:00<?, ?it/s]<ipython-input-8-2981bf12d2ef>:45: FutureWarning: `torch.cuda.amp.autocast(args...)` is deprecated. Please use `torch.amp.autocast('cuda', args...)` instead.\n",
            "  with autocast():\n",
            "Epoch 20: 100%|██████████| 440/440 [00:51<00:00,  8.58it/s]\n"
          ]
        },
        {
          "output_type": "stream",
          "name": "stdout",
          "text": [
            "Epoch 20 - Loss: 0.0354 - Val AUC: 0.7954\n"
          ]
        },
        {
          "output_type": "display_data",
          "data": {
            "text/plain": [
              "<Figure size 800x500 with 1 Axes>"
            ],
            "image/png": "[encoded data removed]"
          },
          "metadata": {}
        },
        {
          "output_type": "stream",
          "name": "stdout",
          "text": [
            "\n",
            "Best Validation AUC: 0.7954\n"
          ]
        }
      ]
    },
    {
      "cell_type": "code",
      "source": [
        "# AUCs from the paper for comparison\n",
        "import matplotlib.pyplot as plt\n",
        "\n",
        "baseline_models = ['Shallow NN', 'BDT', 'Deep NN (paper)', 'My Transformer']\n",
        "baseline_aucs = [0.78, 0.78, 0.802, 0.7954]\n",
        "\n",
        "colors = ['#999999', '#999999', '#cccccc', '#ff7f0e']\n",
        "\n",
        "plt.figure(figsize=(8, 5))\n",
        "bars = plt.bar(baseline_models, baseline_aucs, color=colors)\n",
        "plt.ylim(0.75, max(baseline_aucs) + 0.02)\n",
        "plt.ylabel('ROC AUC')\n",
        "plt.title('AUC Comparison on HIGGS Dataset (21 features)')\n",
        "\n",
        "# Annotate each bar\n",
        "for bar in bars:\n",
        "    height = bar.get_height()\n",
        "    plt.text(bar.get_x() + bar.get_width()/2., height + 0.002,\n",
        "             f'{height:.3f}', ha='center', va='bottom')\n",
        "\n",
        "plt.grid(axis='y', linestyle='--', alpha=0.6)\n",
        "plt.tight_layout()\n",
        "plt.show()\n"
      ],
      "metadata": {
        "colab": {
          "base_uri": "https://localhost:8080/",
          "height": 507
        },
        "id": "GRwgT7F7Y9m8",
        "outputId": "63034695-42fe-43b9-aa54-60d84b14f864"
      },
      "execution_count": 4,
      "outputs": [
        {
          "output_type": "display_data",
          "data": {
            "text/plain": [
              "<Figure size 800x500 with 1 Axes>"
            ],
            "image/png": "[encoded data removed]"
          },
          "metadata": {}
        }
      ]
    },
    {
      "cell_type": "code",
      "source": [
        "from google.colab import drive\n",
        "drive.mount('/content/drive')\n",
        "save_path = \"/content/drive/MyDrive/higgs_transformer_model_optimised.pt\"\n",
        "torch.save(model.state_dict(), save_path)\n",
        "\n"
      ],
      "metadata": {
        "colab": {
          "base_uri": "https://localhost:8080/"
        },
        "id": "LtBcBePOKZ3T",
        "outputId": "9e6f6e97-e989-44e0-bcca-7abb1f507817"
      },
      "execution_count": null,
      "outputs": [
        {
          "output_type": "stream",
          "name": "stdout",
          "text": [
            "Drive already mounted at /content/drive; to attempt to forcibly remount, call drive.mount(\"/content/drive\", force_remount=True).\n"
          ]
        }
      ]
    }
  ]
}